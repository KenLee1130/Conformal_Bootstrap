{
 "cells": [
  {
   "cell_type": "code",
   "execution_count": 1,
   "id": "3c079685",
   "metadata": {},
   "outputs": [],
   "source": [
    "import torch\n",
    "import numpy as np\n",
    "import matplotlib.pyplot as plt\n",
    "from packages.rl import env_hhb\n",
    "from packages.z_sampling.real_xy_sample import generate_gaussian_real_points"
   ]
  },
  {
   "cell_type": "code",
   "execution_count": 6,
   "id": "4a9a3c79",
   "metadata": {},
   "outputs": [],
   "source": [
    "def plot_2D_potential_Virasoro(\n",
    "    central_charge,\n",
    "    bounds_d1,          # e.g. [d1_min, d1_max]\n",
    "    bounds_d3,          # e.g. [d3_min, d3_max]\n",
    "    N_lsq=20,\n",
    "    kmax=2,\n",
    "    kmax1=10,\n",
    "    device=\"cuda\",\n",
    "    dtype=torch.float64,\n",
    "    contour_std=0.1\n",
    "):\n",
    "    \"\"\"\n",
    "    在 (d1, d3) 平面上绘制 Virasoro 最小二乘 reward 的等高线图。  \n",
    "    说明：\n",
    "      - 这里我们假设“状态维度 N_state = 1”，也就是 h 和 hb 都是一维标量。  \n",
    "      - 把 h_ext 固定为 0。若想让 h_ext 也参与变化，可自行扩展。\n",
    "    \"\"\"\n",
    "\n",
    "    # 1) 首先构造 (d1,d3) 网格：\n",
    "    nx, ny = 200, 200\n",
    "    xs = np.linspace(bounds_d1[0], bounds_d1[1], nx)\n",
    "    ys = np.linspace(bounds_d3[0], bounds_d3[1], ny)\n",
    "    Xg, Yg = np.meshgrid(xs, ys, indexing=\"xy\")  # 形状 (ny, nx) 对应 (d3,d1)\n",
    "\n",
    "    # 2) 扁平化成 N_points = nx*ny 个点\n",
    "    pts = torch.from_numpy(\n",
    "        np.stack([Xg.ravel(), Yg.ravel()], axis=1)   # shape (nx*ny, 2)\n",
    "    ).to(device=device, dtype=dtype)\n",
    "    N_points = pts.size(0)  # = nx * ny\n",
    "\n",
    "    # 3) 从这 N_points 个点中，取出“h”和“hb”：\n",
    "    d1_vals = pts[:, 0].unsqueeze(1)  # (N_points, 1)\n",
    "    d3_vals = pts[:, 1].unsqueeze(1)  # (N_points, 1)\n",
    "    # 在 Virasoro 最小二乘里，h_vals 和 hb_vals 都需要形如 (N_th, N_state)，此处 N_state=1\n",
    "    h_vals  = d3_vals.clone()         # (N_points, 1)\n",
    "    hb_vals = d3_vals.clone()         # (N_points, 1)\n",
    "    # 这里举例把 h = d3, hb = d3；如果你需要 h,d3→h,hb 可以自己更换对应关系\n",
    "\n",
    "    # 4) 把 h_ext 固定为 0 (也可用其他常数)\n",
    "    h_ext = torch.zeros((N_points,), device=device, dtype=dtype)  # (N_points,)\n",
    "\n",
    "    # 5) 准备 Virasoro 采样 z, zbar：用复数采样\n",
    "    N_z = 400  # 样本点数，必须是 N_lsq 的整数倍\n",
    "    assert N_z % N_lsq == 0, \"N_z must be a multiple of N_lsq\"\n",
    "    # 这里我们用你预先定义的函数产生复数点：经常是 generate_gaussian_complex_points\n",
    "    z_vals, zbar_vals = generate_gaussian_real_points(N_z, std=contour_std, device=device)\n",
    "    print(h_vals)\n",
    "    print(h_ext)\n",
    "    Rf, _ = env_hhb.least_sq_std_rew_MC_Virasoro(\n",
    "        h_vals,        # (N_points, 1)\n",
    "        hb_vals,       # (N_points, 1)\n",
    "        h_ext,         # (N_points,)\n",
    "        z_vals,        # (N_z,) complex\n",
    "        zbar_vals,     # (N_z,) complex\n",
    "        {\"central_charge\", torch.tensor(central_charge, device=device)},\n",
    "        N_lsq=N_lsq,\n",
    "        kmax=kmax,\n",
    "        kmax1=kmax1,\n",
    "        device=device,\n",
    "        analytic_H=False,\n",
    "    )\n",
    "\n",
    "    # 7) 把 reward 拉到 CPU 并 reshape 成 (ny, nx) 以对应 Xg,Yg\n",
    "    Rg = Rf.detach().cpu().numpy().reshape(ny, nx)\n",
    "\n",
    "    # 8) 最后绘图\n",
    "    fig, ax = plt.subplots(figsize=(6, 6))\n",
    "    cf = ax.contourf(Xg, Yg, Rg, levels=50, cmap=\"viridis\")\n",
    "    cbar = fig.colorbar(cf, ax=ax)\n",
    "    cbar.set_label(\"reward (Vir.$\\exp(S)$)\")\n",
    "\n",
    "    ax.set_xlabel(\"d₁\")\n",
    "    ax.set_ylabel(\"d₃\")\n",
    "    ax.set_title(\"Vir.\\ Mn. Least‐Sq Reward on (d₁,d₃) Plane\")\n",
    "    plt.tight_layout()\n",
    "    plt.show()\n"
   ]
  },
  {
   "cell_type": "code",
   "execution_count": 7,
   "id": "15c2acbe",
   "metadata": {},
   "outputs": [
    {
     "name": "stdout",
     "output_type": "stream",
     "text": [
      "tensor([[-0.6000],\n",
      "        [-0.6000],\n",
      "        [-0.6000],\n",
      "        ...,\n",
      "        [-0.0100],\n",
      "        [-0.0100],\n",
      "        [-0.0100]], device='cuda:0')\n",
      "tensor([0., 0., 0.,  ..., 0., 0., 0.], device='cuda:0')\n"
     ]
    },
    {
     "ename": "AssertionError",
     "evalue": "",
     "output_type": "error",
     "traceback": [
      "\u001b[1;31m---------------------------------------------------------------------------\u001b[0m",
      "\u001b[1;31mAssertionError\u001b[0m                            Traceback (most recent call last)",
      "\u001b[1;32m~\\AppData\\Local\\Temp\\ipykernel_89760\\3426979461.py\u001b[0m in \u001b[0;36m<module>\u001b[1;34m\u001b[0m\n\u001b[0;32m      1\u001b[0m \u001b[0mcentral_charge\u001b[0m \u001b[1;33m=\u001b[0m \u001b[1;36m7\u001b[0m\u001b[1;33m/\u001b[0m\u001b[1;36m10\u001b[0m \u001b[1;33m-\u001b[0m \u001b[1;36m1e-3\u001b[0m\u001b[1;33m\u001b[0m\u001b[1;33m\u001b[0m\u001b[0m\n\u001b[0;32m      2\u001b[0m \u001b[0mbounds\u001b[0m \u001b[1;33m=\u001b[0m \u001b[1;33m[\u001b[0m\u001b[1;33m(\u001b[0m\u001b[1;36m0.02\u001b[0m\u001b[1;33m,\u001b[0m\u001b[1;36m0.6\u001b[0m\u001b[1;33m)\u001b[0m\u001b[1;33m,\u001b[0m\u001b[1;33m(\u001b[0m\u001b[1;33m-\u001b[0m\u001b[1;36m0.6\u001b[0m\u001b[1;33m,\u001b[0m\u001b[1;33m-\u001b[0m\u001b[1;36m0.01\u001b[0m\u001b[1;33m)\u001b[0m\u001b[1;33m]\u001b[0m\u001b[1;33m\u001b[0m\u001b[1;33m\u001b[0m\u001b[0m\n\u001b[1;32m----> 3\u001b[1;33m \u001b[0mplot_2D_potential_Virasoro\u001b[0m\u001b[1;33m(\u001b[0m\u001b[0mcentral_charge\u001b[0m\u001b[1;33m=\u001b[0m\u001b[0mcentral_charge\u001b[0m\u001b[1;33m,\u001b[0m \u001b[0mbounds_d1\u001b[0m\u001b[1;33m=\u001b[0m\u001b[0mbounds\u001b[0m\u001b[1;33m[\u001b[0m\u001b[1;36m0\u001b[0m\u001b[1;33m]\u001b[0m\u001b[1;33m,\u001b[0m \u001b[0mbounds_d3\u001b[0m\u001b[1;33m=\u001b[0m\u001b[0mbounds\u001b[0m\u001b[1;33m[\u001b[0m\u001b[1;36m1\u001b[0m\u001b[1;33m]\u001b[0m\u001b[1;33m)\u001b[0m\u001b[1;33m\u001b[0m\u001b[1;33m\u001b[0m\u001b[0m\n\u001b[0m",
      "\u001b[1;32m~\\AppData\\Local\\Temp\\ipykernel_89760\\2427336851.py\u001b[0m in \u001b[0;36mplot_2D_potential_Virasoro\u001b[1;34m(central_charge, bounds_d1, bounds_d3, N_lsq, kmax, kmax1, device, dtype, contour_std)\u001b[0m\n\u001b[0;32m     47\u001b[0m     \u001b[0mprint\u001b[0m\u001b[1;33m(\u001b[0m\u001b[0mh_vals\u001b[0m\u001b[1;33m)\u001b[0m\u001b[1;33m\u001b[0m\u001b[1;33m\u001b[0m\u001b[0m\n\u001b[0;32m     48\u001b[0m     \u001b[0mprint\u001b[0m\u001b[1;33m(\u001b[0m\u001b[0mh_ext\u001b[0m\u001b[1;33m)\u001b[0m\u001b[1;33m\u001b[0m\u001b[1;33m\u001b[0m\u001b[0m\n\u001b[1;32m---> 49\u001b[1;33m     Rf, _ = env_hhb.least_sq_std_rew_MC_Virasoro(\n\u001b[0m\u001b[0;32m     50\u001b[0m         \u001b[0mh_vals\u001b[0m\u001b[1;33m,\u001b[0m        \u001b[1;31m# (N_points, 1)\u001b[0m\u001b[1;33m\u001b[0m\u001b[1;33m\u001b[0m\u001b[0m\n\u001b[0;32m     51\u001b[0m         \u001b[0mhb_vals\u001b[0m\u001b[1;33m,\u001b[0m       \u001b[1;31m# (N_points, 1)\u001b[0m\u001b[1;33m\u001b[0m\u001b[1;33m\u001b[0m\u001b[0m\n",
      "\u001b[1;32mc:\\Users\\User\\Desktop\\git\\Conformal_Bootstrap\\packages\\rl\\env_hhb.py\u001b[0m in \u001b[0;36mleast_sq_std_rew_MC_Virasoro\u001b[1;34m(h_vals, hb_vals, h_ext, x_vals, y_vals, central_charge, N_lsq, kmax, kmax1, device, analytic_H)\u001b[0m\n\u001b[0;32m    480\u001b[0m     \u001b[0ms_vals\u001b[0m \u001b[1;33m=\u001b[0m \u001b[1;33m(\u001b[0m\u001b[0mh_vals\u001b[0m \u001b[1;33m-\u001b[0m \u001b[0mhb_vals\u001b[0m\u001b[1;33m)\u001b[0m\u001b[1;33m\u001b[0m\u001b[1;33m\u001b[0m\u001b[0m\n\u001b[0;32m    481\u001b[0m     \u001b[0md_max\u001b[0m \u001b[1;33m=\u001b[0m \u001b[0mtorch\u001b[0m\u001b[1;33m.\u001b[0m\u001b[0mmax\u001b[0m\u001b[1;33m(\u001b[0m\u001b[0md_vals\u001b[0m\u001b[1;33m)\u001b[0m\u001b[1;33m.\u001b[0m\u001b[0mitem\u001b[0m\u001b[1;33m(\u001b[0m\u001b[1;33m)\u001b[0m\u001b[1;33m\u001b[0m\u001b[1;33m\u001b[0m\u001b[0m\n\u001b[1;32m--> 482\u001b[1;33m     c_out, res_out = calculate_c_rew_Virasoro(\n\u001b[0m\u001b[0;32m    483\u001b[0m         \u001b[0mh_vals\u001b[0m\u001b[1;33m,\u001b[0m \u001b[0mhb_vals\u001b[0m\u001b[1;33m,\u001b[0m \u001b[0mx_vals\u001b[0m\u001b[1;33m,\u001b[0m \u001b[0my_vals\u001b[0m\u001b[1;33m,\u001b[0m \u001b[0mh_ext\u001b[0m\u001b[1;33m,\u001b[0m \u001b[0mcentral_charge\u001b[0m\u001b[1;33m,\u001b[0m\u001b[1;33m\u001b[0m\u001b[1;33m\u001b[0m\u001b[0m\n\u001b[0;32m    484\u001b[0m         \u001b[0mN_lsq\u001b[0m\u001b[1;33m=\u001b[0m\u001b[0mN_lsq\u001b[0m\u001b[1;33m,\u001b[0m \u001b[0mkmax\u001b[0m\u001b[1;33m=\u001b[0m\u001b[0mkmax\u001b[0m\u001b[1;33m,\u001b[0m\u001b[1;33m\u001b[0m\u001b[1;33m\u001b[0m\u001b[0m\n",
      "\u001b[1;32mc:\\Users\\User\\Desktop\\git\\Conformal_Bootstrap\\packages\\rl\\env_hhb.py\u001b[0m in \u001b[0;36mcalculate_c_rew_Virasoro\u001b[1;34m(h, hbar, z, zbar, hext, c_val, N_lsq, kmax, kmax1, device, analytic_H)\u001b[0m\n\u001b[0;32m    434\u001b[0m     \u001b[0mN_state\u001b[0m \u001b[1;33m=\u001b[0m \u001b[0mlen\u001b[0m\u001b[1;33m(\u001b[0m\u001b[0mh\u001b[0m\u001b[1;33m)\u001b[0m\u001b[1;33m\u001b[0m\u001b[1;33m\u001b[0m\u001b[0m\n\u001b[0;32m    435\u001b[0m \u001b[1;33m\u001b[0m\u001b[0m\n\u001b[1;32m--> 436\u001b[1;33m     G, v = build_G_v_th_batch_spin(\n\u001b[0m\u001b[0;32m    437\u001b[0m         \u001b[0mh\u001b[0m\u001b[1;33m,\u001b[0m \u001b[0mhbar\u001b[0m\u001b[1;33m,\u001b[0m \u001b[0mz\u001b[0m\u001b[1;33m,\u001b[0m \u001b[0mzbar\u001b[0m\u001b[1;33m,\u001b[0m \u001b[0mc_val\u001b[0m\u001b[1;33m,\u001b[0m \u001b[0mhext\u001b[0m\u001b[1;33m,\u001b[0m\u001b[1;33m\u001b[0m\u001b[1;33m\u001b[0m\u001b[0m\n\u001b[0;32m    438\u001b[0m         \u001b[0midx_n\u001b[0m\u001b[1;33m,\u001b[0m \u001b[0mval_n\u001b[0m\u001b[1;33m,\u001b[0m \u001b[0mofs_n\u001b[0m\u001b[1;33m,\u001b[0m \u001b[0midx_d\u001b[0m\u001b[1;33m,\u001b[0m \u001b[0mval_d\u001b[0m\u001b[1;33m,\u001b[0m \u001b[0mofs_d\u001b[0m\u001b[1;33m,\u001b[0m\u001b[1;33m\u001b[0m\u001b[1;33m\u001b[0m\u001b[0m\n",
      "\u001b[1;32mc:\\Users\\User\\Desktop\\git\\Conformal_Bootstrap\\packages\\rl\\env_hhb.py\u001b[0m in \u001b[0;36mbuild_G_v_th_batch_spin\u001b[1;34m(h_mat, hbar_mat, z, zbar, c, hext, idx_n, val_n, ofs_n, idx_d, val_d, ofs_d, kmax, kmax1, analytic_H)\u001b[0m\n\u001b[0;32m    360\u001b[0m     \u001b[0mNth\u001b[0m\u001b[1;33m,\u001b[0m \u001b[0mp\u001b[0m \u001b[1;33m=\u001b[0m \u001b[0mh_mat\u001b[0m\u001b[1;33m.\u001b[0m\u001b[0msize\u001b[0m\u001b[1;33m(\u001b[0m\u001b[1;33m)\u001b[0m\u001b[1;33m\u001b[0m\u001b[1;33m\u001b[0m\u001b[0m\n\u001b[0;32m    361\u001b[0m     \u001b[1;32massert\u001b[0m \u001b[0mh_mat\u001b[0m\u001b[1;33m.\u001b[0m\u001b[0msize\u001b[0m\u001b[1;33m(\u001b[0m\u001b[1;33m)\u001b[0m \u001b[1;33m==\u001b[0m \u001b[0mhbar_mat\u001b[0m\u001b[1;33m.\u001b[0m\u001b[0msize\u001b[0m\u001b[1;33m(\u001b[0m\u001b[1;33m)\u001b[0m\u001b[1;33m\u001b[0m\u001b[1;33m\u001b[0m\u001b[0m\n\u001b[1;32m--> 362\u001b[1;33m     \u001b[1;32massert\u001b[0m \u001b[0mlen\u001b[0m\u001b[1;33m(\u001b[0m\u001b[0mc\u001b[0m\u001b[1;33m)\u001b[0m \u001b[1;33m==\u001b[0m \u001b[0mNth\u001b[0m\u001b[1;33m\u001b[0m\u001b[1;33m\u001b[0m\u001b[0m\n\u001b[0m\u001b[0;32m    363\u001b[0m     \u001b[1;32massert\u001b[0m \u001b[0mlen\u001b[0m\u001b[1;33m(\u001b[0m\u001b[0mhext\u001b[0m\u001b[1;33m)\u001b[0m \u001b[1;33m==\u001b[0m \u001b[0mNth\u001b[0m\u001b[1;33m\u001b[0m\u001b[1;33m\u001b[0m\u001b[0m\n\u001b[0;32m    364\u001b[0m \u001b[1;33m\u001b[0m\u001b[0m\n",
      "\u001b[1;31mAssertionError\u001b[0m: "
     ]
    }
   ],
   "source": [
    "central_charge = 7/10 - 1e-3\n",
    "bounds = [(0.02,0.6),(-0.6,-0.01)]\n",
    "plot_2D_potential_Virasoro(central_charge=central_charge, bounds_d1=bounds[0], bounds_d3=bounds[1])"
   ]
  },
  {
   "cell_type": "code",
   "execution_count": null,
   "id": "abdbb420",
   "metadata": {},
   "outputs": [
    {
     "ename": "ValueError",
     "evalue": "too many values to unpack (expected 2)",
     "output_type": "error",
     "traceback": [
      "\u001b[1;31m---------------------------------------------------------------------------\u001b[0m",
      "\u001b[1;31mValueError\u001b[0m                                Traceback (most recent call last)",
      "\u001b[1;32m~\\AppData\\Local\\Temp\\ipykernel_90172\\3650917076.py\u001b[0m in \u001b[0;36m<module>\u001b[1;34m\u001b[0m\n\u001b[0;32m     12\u001b[0m \u001b[0mhb_vals\u001b[0m \u001b[1;33m=\u001b[0m \u001b[0mtorch\u001b[0m\u001b[1;33m.\u001b[0m\u001b[0mtensor\u001b[0m\u001b[1;33m(\u001b[0m\u001b[1;33m[\u001b[0m\u001b[1;33m[\u001b[0m\u001b[1;36m3\u001b[0m\u001b[1;33m/\u001b[0m\u001b[1;36m10\u001b[0m\u001b[1;33m]\u001b[0m\u001b[1;33m]\u001b[0m\u001b[1;33m,\u001b[0m \u001b[0mdevice\u001b[0m\u001b[1;33m=\u001b[0m\u001b[0mdevice\u001b[0m\u001b[1;33m)\u001b[0m\u001b[1;33m.\u001b[0m\u001b[0munsqueeze\u001b[0m\u001b[1;33m(\u001b[0m\u001b[1;36m0\u001b[0m\u001b[1;33m)\u001b[0m\u001b[1;33m\u001b[0m\u001b[1;33m\u001b[0m\u001b[0m\n\u001b[0;32m     13\u001b[0m \u001b[0mh_ext\u001b[0m \u001b[1;33m=\u001b[0m \u001b[0mtorch\u001b[0m\u001b[1;33m.\u001b[0m\u001b[0mtensor\u001b[0m\u001b[1;33m(\u001b[0m\u001b[1;33m[\u001b[0m\u001b[1;36m7\u001b[0m\u001b[1;33m/\u001b[0m\u001b[1;36m10\u001b[0m\u001b[1;33m]\u001b[0m\u001b[1;33m,\u001b[0m \u001b[0mdevice\u001b[0m\u001b[1;33m=\u001b[0m\u001b[0mdevice\u001b[0m\u001b[1;33m)\u001b[0m\u001b[1;33m.\u001b[0m\u001b[0munsqueeze\u001b[0m\u001b[1;33m(\u001b[0m\u001b[1;36m0\u001b[0m\u001b[1;33m)\u001b[0m\u001b[1;33m\u001b[0m\u001b[1;33m\u001b[0m\u001b[0m\n\u001b[1;32m---> 14\u001b[1;33m Rf, _ = env_hhb.least_sq_std_rew_MC_Virasoro(\n\u001b[0m\u001b[0;32m     15\u001b[0m     \u001b[0mh_vals\u001b[0m\u001b[1;33m,\u001b[0m        \u001b[1;31m# (N_points, 1)\u001b[0m\u001b[1;33m\u001b[0m\u001b[1;33m\u001b[0m\u001b[0m\n\u001b[0;32m     16\u001b[0m     \u001b[0mhb_vals\u001b[0m\u001b[1;33m,\u001b[0m       \u001b[1;31m# (N_points, 1)\u001b[0m\u001b[1;33m\u001b[0m\u001b[1;33m\u001b[0m\u001b[0m\n",
      "\u001b[1;32mc:\\Users\\User\\Desktop\\git\\Conformal_Bootstrap\\packages\\rl\\env_hhb.py\u001b[0m in \u001b[0;36mleast_sq_std_rew_MC_Virasoro\u001b[1;34m(h_vals, hb_vals, h_ext, x_vals, y_vals, central_charge, N_lsq, kmax, kmax1, device, analytic_H)\u001b[0m\n\u001b[0;32m    479\u001b[0m     \u001b[0ms_vals\u001b[0m \u001b[1;33m=\u001b[0m \u001b[1;33m(\u001b[0m\u001b[0mh_vals\u001b[0m \u001b[1;33m-\u001b[0m \u001b[0mhb_vals\u001b[0m\u001b[1;33m)\u001b[0m\u001b[1;33m\u001b[0m\u001b[1;33m\u001b[0m\u001b[0m\n\u001b[0;32m    480\u001b[0m     \u001b[0md_max\u001b[0m \u001b[1;33m=\u001b[0m \u001b[0mtorch\u001b[0m\u001b[1;33m.\u001b[0m\u001b[0mmax\u001b[0m\u001b[1;33m(\u001b[0m\u001b[0md_vals\u001b[0m\u001b[1;33m)\u001b[0m\u001b[1;33m.\u001b[0m\u001b[0mitem\u001b[0m\u001b[1;33m(\u001b[0m\u001b[1;33m)\u001b[0m\u001b[1;33m\u001b[0m\u001b[1;33m\u001b[0m\u001b[0m\n\u001b[1;32m--> 481\u001b[1;33m     c_out, res_out = calculate_c_rew_Virasoro(\n\u001b[0m\u001b[0;32m    482\u001b[0m         \u001b[0mh_vals\u001b[0m\u001b[1;33m,\u001b[0m \u001b[0mhb_vals\u001b[0m\u001b[1;33m,\u001b[0m \u001b[0mx_vals\u001b[0m\u001b[1;33m,\u001b[0m \u001b[0my_vals\u001b[0m\u001b[1;33m,\u001b[0m \u001b[0mh_ext\u001b[0m\u001b[1;33m,\u001b[0m \u001b[0mcentral_charge\u001b[0m\u001b[1;33m,\u001b[0m\u001b[1;33m\u001b[0m\u001b[1;33m\u001b[0m\u001b[0m\n\u001b[0;32m    483\u001b[0m         \u001b[0mN_lsq\u001b[0m\u001b[1;33m=\u001b[0m\u001b[0mN_lsq\u001b[0m\u001b[1;33m,\u001b[0m \u001b[0mkmax\u001b[0m\u001b[1;33m=\u001b[0m\u001b[0mkmax\u001b[0m\u001b[1;33m,\u001b[0m\u001b[1;33m\u001b[0m\u001b[1;33m\u001b[0m\u001b[0m\n",
      "\u001b[1;32mc:\\Users\\User\\Desktop\\git\\Conformal_Bootstrap\\packages\\rl\\env_hhb.py\u001b[0m in \u001b[0;36mcalculate_c_rew_Virasoro\u001b[1;34m(h, hbar, z, zbar, hext, c_val, N_lsq, kmax, kmax1, device, analytic_H)\u001b[0m\n\u001b[0;32m    433\u001b[0m     \u001b[0mN_state\u001b[0m \u001b[1;33m=\u001b[0m \u001b[0mlen\u001b[0m\u001b[1;33m(\u001b[0m\u001b[0mh\u001b[0m\u001b[1;33m)\u001b[0m\u001b[1;33m\u001b[0m\u001b[1;33m\u001b[0m\u001b[0m\n\u001b[0;32m    434\u001b[0m \u001b[1;33m\u001b[0m\u001b[0m\n\u001b[1;32m--> 435\u001b[1;33m     G, v = build_G_v_th_batch_spin(\n\u001b[0m\u001b[0;32m    436\u001b[0m         \u001b[0mh\u001b[0m\u001b[1;33m,\u001b[0m \u001b[0mhbar\u001b[0m\u001b[1;33m,\u001b[0m \u001b[0mz\u001b[0m\u001b[1;33m,\u001b[0m \u001b[0mzbar\u001b[0m\u001b[1;33m,\u001b[0m \u001b[0mc_val\u001b[0m\u001b[1;33m,\u001b[0m \u001b[0mhext\u001b[0m\u001b[1;33m,\u001b[0m\u001b[1;33m\u001b[0m\u001b[1;33m\u001b[0m\u001b[0m\n\u001b[0;32m    437\u001b[0m         \u001b[0midx_n\u001b[0m\u001b[1;33m,\u001b[0m \u001b[0mval_n\u001b[0m\u001b[1;33m,\u001b[0m \u001b[0mofs_n\u001b[0m\u001b[1;33m,\u001b[0m \u001b[0midx_d\u001b[0m\u001b[1;33m,\u001b[0m \u001b[0mval_d\u001b[0m\u001b[1;33m,\u001b[0m \u001b[0mofs_d\u001b[0m\u001b[1;33m,\u001b[0m\u001b[1;33m\u001b[0m\u001b[1;33m\u001b[0m\u001b[0m\n",
      "\u001b[1;32mc:\\Users\\User\\Desktop\\git\\Conformal_Bootstrap\\packages\\rl\\env_hhb.py\u001b[0m in \u001b[0;36mbuild_G_v_th_batch_spin\u001b[1;34m(h_mat, hbar_mat, z, zbar, c, hext, idx_n, val_n, ofs_n, idx_d, val_d, ofs_d, kmax, kmax1, analytic_H)\u001b[0m\n\u001b[0;32m    358\u001b[0m     \u001b[0mReturns\u001b[0m \u001b[0mG_phys\u001b[0m \u001b[1;33m(\u001b[0m\u001b[0mNth\u001b[0m\u001b[1;33m,\u001b[0m \u001b[0mNz\u001b[0m\u001b[1;33m,\u001b[0m \u001b[0mp\u001b[0m\u001b[1;33m)\u001b[0m \u001b[1;32mand\u001b[0m \u001b[0mv\u001b[0m \u001b[1;33m(\u001b[0m\u001b[0mNth\u001b[0m\u001b[1;33m,\u001b[0m \u001b[0mNz\u001b[0m\u001b[1;33m)\u001b[0m\u001b[1;33m\u001b[0m\u001b[1;33m\u001b[0m\u001b[0m\n\u001b[0;32m    359\u001b[0m     \"\"\"\n\u001b[1;32m--> 360\u001b[1;33m     \u001b[0mNth\u001b[0m\u001b[1;33m,\u001b[0m \u001b[0mp\u001b[0m \u001b[1;33m=\u001b[0m \u001b[0mh_mat\u001b[0m\u001b[1;33m.\u001b[0m\u001b[0msize\u001b[0m\u001b[1;33m(\u001b[0m\u001b[1;33m)\u001b[0m\u001b[1;33m\u001b[0m\u001b[1;33m\u001b[0m\u001b[0m\n\u001b[0m\u001b[0;32m    361\u001b[0m     \u001b[1;32massert\u001b[0m \u001b[0mh_mat\u001b[0m\u001b[1;33m.\u001b[0m\u001b[0msize\u001b[0m\u001b[1;33m(\u001b[0m\u001b[1;33m)\u001b[0m \u001b[1;33m==\u001b[0m \u001b[0mhbar_mat\u001b[0m\u001b[1;33m.\u001b[0m\u001b[0msize\u001b[0m\u001b[1;33m(\u001b[0m\u001b[1;33m)\u001b[0m\u001b[1;33m\u001b[0m\u001b[1;33m\u001b[0m\u001b[0m\n\u001b[0;32m    362\u001b[0m     \u001b[1;32massert\u001b[0m \u001b[0mlen\u001b[0m\u001b[1;33m(\u001b[0m\u001b[0mhext\u001b[0m\u001b[1;33m)\u001b[0m \u001b[1;33m==\u001b[0m \u001b[0mNth\u001b[0m\u001b[1;33m\u001b[0m\u001b[1;33m\u001b[0m\u001b[0m\n",
      "\u001b[1;31mValueError\u001b[0m: too many values to unpack (expected 2)"
     ]
    }
   ],
   "source": [
    "N_lsq=20\n",
    "N_z = 400\n",
    "kmax=2\n",
    "kmax1=10\n",
    "device=\"cuda\"\n",
    "dtype=torch.float64\n",
    "contour_std=0.1\n",
    "\n",
    "z_vals, zbar_vals = generate_gaussian_real_points(N_z, std=contour_std, device=device)\n",
    "\n",
    "h_vals = torch.tensor([[3/10]], device=device, dtype=torch.float64).unsqueeze(0)\n",
    "hb_vals = torch.tensor([[3/10]], device=device).unsqueeze(0)\n",
    "h_ext = torch.tensor([7/10], device=device).unsqueeze(0)\n",
    "Rf, _ = env_hhb.least_sq_std_rew_MC_Virasoro(\n",
    "    h_vals,        # (N_points, 1)\n",
    "    hb_vals,       # (N_points, 1)\n",
    "    h_ext,         # (N_points,)\n",
    "    z_vals,        # (N_z,) complex\n",
    "    zbar_vals,     # (N_z,) complex\n",
    "    torch.tensor([[central_charge]], device=device),\n",
    "    N_lsq=N_lsq,\n",
    "    kmax=kmax,\n",
    "    kmax1=kmax1,\n",
    "    device=device,\n",
    "    analytic_H=False,\n",
    ")"
   ]
  },
  {
   "cell_type": "code",
   "execution_count": null,
   "id": "4e0bf446",
   "metadata": {},
   "outputs": [
    {
     "ename": "AssertionError",
     "evalue": "NN must be even",
     "output_type": "error",
     "traceback": [
      "\u001b[1;31m---------------------------------------------------------------------------\u001b[0m",
      "\u001b[1;31mAssertionError\u001b[0m                            Traceback (most recent call last)",
      "\u001b[1;32m~\\AppData\\Local\\Temp\\ipykernel_90172\\3987272015.py\u001b[0m in \u001b[0;36m<module>\u001b[1;34m\u001b[0m\n\u001b[0;32m     16\u001b[0m \u001b[1;33m\u001b[0m\u001b[0m\n\u001b[0;32m     17\u001b[0m \u001b[1;31m# 现在就可以调用\u001b[0m\u001b[1;33m\u001b[0m\u001b[1;33m\u001b[0m\u001b[0m\n\u001b[1;32m---> 18\u001b[1;33m r, c_mean, c_std = env_hhb.least_sq_std_rew_Virasoro(\n\u001b[0m\u001b[0;32m     19\u001b[0m     \u001b[0mh_vals\u001b[0m\u001b[1;33m,\u001b[0m       \u001b[1;31m# (Nth, p)\u001b[0m\u001b[1;33m\u001b[0m\u001b[1;33m\u001b[0m\u001b[0m\n\u001b[0;32m     20\u001b[0m     \u001b[0mhb_vals\u001b[0m\u001b[1;33m,\u001b[0m      \u001b[1;31m# (Nth, p)\u001b[0m\u001b[1;33m\u001b[0m\u001b[1;33m\u001b[0m\u001b[0m\n",
      "\u001b[1;32mc:\\Users\\User\\Desktop\\git\\Conformal_Bootstrap\\packages\\rl\\env_hhb.py\u001b[0m in \u001b[0;36mleast_sq_std_rew_Virasoro\u001b[1;34m(h_vals, hb_vals, h_ext, x_vals, y_vals, virasoro_info, N_lsq, kmax, n_states_rew, kmax1, device, analytic_H)\u001b[0m\n\u001b[0;32m    461\u001b[0m     \u001b[0mset_numba_device\u001b[0m\u001b[1;33m(\u001b[0m\u001b[0mdevice\u001b[0m\u001b[1;33m)\u001b[0m\u001b[1;33m\u001b[0m\u001b[1;33m\u001b[0m\u001b[0m\n\u001b[0;32m    462\u001b[0m     \u001b[0mcentral_charge\u001b[0m\u001b[1;33m=\u001b[0m\u001b[0mvirasoro_info\u001b[0m\u001b[1;33m[\u001b[0m\u001b[1;34m\"central_charge\"\u001b[0m\u001b[1;33m]\u001b[0m\u001b[1;33m-\u001b[0m\u001b[1;36m1e-5\u001b[0m\u001b[1;33m\u001b[0m\u001b[1;33m\u001b[0m\u001b[0m\n\u001b[1;32m--> 463\u001b[1;33m     cs, rews = calculate_c_rew_Virasoro(\n\u001b[0m\u001b[0;32m    464\u001b[0m         \u001b[0mh_vals\u001b[0m\u001b[1;33m,\u001b[0m \u001b[0mhb_vals\u001b[0m\u001b[1;33m,\u001b[0m \u001b[0mx_vals\u001b[0m\u001b[1;33m,\u001b[0m \u001b[0my_vals\u001b[0m\u001b[1;33m,\u001b[0m \u001b[0mh_ext\u001b[0m\u001b[1;33m,\u001b[0m \u001b[0mcentral_charge\u001b[0m\u001b[1;33m,\u001b[0m\u001b[1;33m\u001b[0m\u001b[1;33m\u001b[0m\u001b[0m\n\u001b[0;32m    465\u001b[0m         \u001b[0mN_lsq\u001b[0m\u001b[1;33m=\u001b[0m\u001b[0mN_lsq\u001b[0m\u001b[1;33m,\u001b[0m \u001b[0mkmax\u001b[0m\u001b[1;33m=\u001b[0m\u001b[0mkmax\u001b[0m\u001b[1;33m,\u001b[0m\u001b[1;33m\u001b[0m\u001b[1;33m\u001b[0m\u001b[0m\n",
      "\u001b[1;32mc:\\Users\\User\\Desktop\\git\\Conformal_Bootstrap\\packages\\rl\\env_hhb.py\u001b[0m in \u001b[0;36mcalculate_c_rew_Virasoro\u001b[1;34m(h, hbar, z, zbar, hext, c_val, N_lsq, kmax, kmax1, device, analytic_H)\u001b[0m\n\u001b[0;32m    433\u001b[0m     \u001b[0mN_state\u001b[0m \u001b[1;33m=\u001b[0m \u001b[0mlen\u001b[0m\u001b[1;33m(\u001b[0m\u001b[0mh\u001b[0m\u001b[1;33m)\u001b[0m\u001b[1;33m\u001b[0m\u001b[1;33m\u001b[0m\u001b[0m\n\u001b[0;32m    434\u001b[0m \u001b[1;33m\u001b[0m\u001b[0m\n\u001b[1;32m--> 435\u001b[1;33m     G, v = build_G_v_th_batch_spin(\n\u001b[0m\u001b[0;32m    436\u001b[0m         \u001b[0mh\u001b[0m\u001b[1;33m,\u001b[0m \u001b[0mhbar\u001b[0m\u001b[1;33m,\u001b[0m \u001b[0mz\u001b[0m\u001b[1;33m,\u001b[0m \u001b[0mzbar\u001b[0m\u001b[1;33m,\u001b[0m \u001b[0mc_val\u001b[0m\u001b[1;33m,\u001b[0m \u001b[0mhext\u001b[0m\u001b[1;33m,\u001b[0m\u001b[1;33m\u001b[0m\u001b[1;33m\u001b[0m\u001b[0m\n\u001b[0;32m    437\u001b[0m         \u001b[0midx_n\u001b[0m\u001b[1;33m,\u001b[0m \u001b[0mval_n\u001b[0m\u001b[1;33m,\u001b[0m \u001b[0mofs_n\u001b[0m\u001b[1;33m,\u001b[0m \u001b[0midx_d\u001b[0m\u001b[1;33m,\u001b[0m \u001b[0mval_d\u001b[0m\u001b[1;33m,\u001b[0m \u001b[0mofs_d\u001b[0m\u001b[1;33m,\u001b[0m\u001b[1;33m\u001b[0m\u001b[1;33m\u001b[0m\u001b[0m\n",
      "\u001b[1;32mc:\\Users\\User\\Desktop\\git\\Conformal_Bootstrap\\packages\\rl\\env_hhb.py\u001b[0m in \u001b[0;36mbuild_G_v_th_batch_spin\u001b[1;34m(h_mat, hbar_mat, z, zbar, c, hext, idx_n, val_n, ofs_n, idx_d, val_d, ofs_d, kmax, kmax1, analytic_H)\u001b[0m\n\u001b[0;32m    382\u001b[0m         \u001b[0mHarr\u001b[0m \u001b[1;33m=\u001b[0m \u001b[0mbuild_H_cuda\u001b[0m\u001b[1;33m(\u001b[0m\u001b[0mc\u001b[0m\u001b[1;33m,\u001b[0m \u001b[0mh_all\u001b[0m\u001b[1;33m,\u001b[0m \u001b[0mhext\u001b[0m\u001b[1;33m,\u001b[0m \u001b[0midx_n\u001b[0m\u001b[1;33m,\u001b[0m \u001b[0mval_n\u001b[0m\u001b[1;33m,\u001b[0m \u001b[0mofs_n\u001b[0m\u001b[1;33m,\u001b[0m \u001b[0midx_d\u001b[0m\u001b[1;33m,\u001b[0m \u001b[0mval_d\u001b[0m\u001b[1;33m,\u001b[0m \u001b[0mofs_d\u001b[0m\u001b[1;33m,\u001b[0m \u001b[0mkmax\u001b[0m\u001b[1;33m)\u001b[0m\u001b[1;33m\u001b[0m\u001b[1;33m\u001b[0m\u001b[0m\n\u001b[0;32m    383\u001b[0m     \u001b[1;32melse\u001b[0m\u001b[1;33m:\u001b[0m\u001b[1;33m\u001b[0m\u001b[1;33m\u001b[0m\u001b[0m\n\u001b[1;32m--> 384\u001b[1;33m         \u001b[0mHarr\u001b[0m \u001b[1;33m=\u001b[0m \u001b[0mcalc_H_rec\u001b[0m\u001b[1;33m(\u001b[0m\u001b[0mc\u001b[0m\u001b[1;33m,\u001b[0m \u001b[0mhext\u001b[0m\u001b[1;33m,\u001b[0m \u001b[0mhext\u001b[0m\u001b[1;33m,\u001b[0m \u001b[0mh_all\u001b[0m\u001b[1;33m,\u001b[0m \u001b[0mkmax\u001b[0m \u001b[1;33m+\u001b[0m \u001b[1;36m2\u001b[0m\u001b[1;33m)\u001b[0m\u001b[1;33m\u001b[0m\u001b[1;33m\u001b[0m\u001b[0m\n\u001b[0m\u001b[0;32m    385\u001b[0m \u001b[1;33m\u001b[0m\u001b[0m\n\u001b[0;32m    386\u001b[0m     \u001b[0mh_d\u001b[0m \u001b[1;33m=\u001b[0m \u001b[0mcuda\u001b[0m\u001b[1;33m.\u001b[0m\u001b[0mas_cuda_array\u001b[0m\u001b[1;33m(\u001b[0m\u001b[0mh_all\u001b[0m\u001b[1;33m)\u001b[0m\u001b[1;33m\u001b[0m\u001b[1;33m\u001b[0m\u001b[0m\n",
      "\u001b[1;32mc:\\Users\\User\\Desktop\\git\\Conformal_Bootstrap\\packages\\virasoro\\virasoro_rec.py\u001b[0m in \u001b[0;36mcalc_H_rec\u001b[1;34m(c_arr, hL_arr, hH_arr, h_arr, NN, print_time)\u001b[0m\n\u001b[0;32m    226\u001b[0m \u001b[1;33m\u001b[0m\u001b[0m\n\u001b[0;32m    227\u001b[0m \u001b[1;32mdef\u001b[0m \u001b[0mcalc_H_rec\u001b[0m\u001b[1;33m(\u001b[0m\u001b[0mc_arr\u001b[0m\u001b[1;33m,\u001b[0m \u001b[0mhL_arr\u001b[0m\u001b[1;33m,\u001b[0m \u001b[0mhH_arr\u001b[0m\u001b[1;33m,\u001b[0m \u001b[0mh_arr\u001b[0m\u001b[1;33m,\u001b[0m \u001b[0mNN\u001b[0m\u001b[1;33m,\u001b[0m\u001b[0mprint_time\u001b[0m\u001b[1;33m=\u001b[0m\u001b[1;32mFalse\u001b[0m\u001b[1;33m)\u001b[0m\u001b[1;33m:\u001b[0m\u001b[1;33m\u001b[0m\u001b[1;33m\u001b[0m\u001b[0m\n\u001b[1;32m--> 228\u001b[1;33m     \u001b[1;32massert\u001b[0m  \u001b[0mNN\u001b[0m \u001b[1;33m&\u001b[0m \u001b[1;36m1\u001b[0m \u001b[1;33m==\u001b[0m \u001b[1;36m0\u001b[0m\u001b[1;33m,\u001b[0m \u001b[1;34m\"NN must be even\"\u001b[0m\u001b[1;33m\u001b[0m\u001b[1;33m\u001b[0m\u001b[0m\n\u001b[0m\u001b[0;32m    229\u001b[0m     \u001b[0mNNhalf\u001b[0m\u001b[1;33m=\u001b[0m \u001b[0mNN\u001b[0m \u001b[1;33m//\u001b[0m \u001b[1;36m2\u001b[0m\u001b[1;33m\u001b[0m\u001b[1;33m\u001b[0m\u001b[0m\n\u001b[0;32m    230\u001b[0m     \u001b[1;31m#NN_half = NN // 2\u001b[0m\u001b[1;33m\u001b[0m\u001b[1;33m\u001b[0m\u001b[0m\n",
      "\u001b[1;31mAssertionError\u001b[0m: NN must be even"
     ]
    }
   ],
   "source": [
    "virasoro_info = {\n",
    "    \"central_charge\": 3/2,\n",
    "    \"V_c\": torch.tensor([0], device=\"cuda\", dtype=torch.float64),\n",
    "    \"V_d\": torch.tensor([0], device=\"cuda\", dtype=torch.float64),\n",
    "}\n",
    "\n",
    "# h_vals, hb_vals: torch.Tensor on GPU, dtype=torch.float64\n",
    "#   形状 (Nth, p) —— Nth 是把所有 trial spectrum 的数目\n",
    "h_vals = torch.tensor([[3/10]], device=device, dtype=torch.float64)#torch.randn((Nth, p), device=\"cuda\", dtype=torch.float64)\n",
    "hb_vals = torch.tensor([[3/10]], device=device, dtype=torch.float64)#torch.randn((Nth, p), device=\"cuda\", dtype=torch.float64)\n",
    "\n",
    "# h_ext: torch.Tensor on GPU, dtype=torch.float64，长度 Nth\n",
    "h_ext = torch.tensor([7/10], device=device, dtype=torch.float64)#torch.randn((Nth,), device=\"cuda\", dtype=torch.float64)\n",
    "\n",
    "z_vals, zbar_vals = generate_gaussian_real_points(N_z, std=contour_std, device=device)\n",
    "\n",
    "# 现在就可以调用\n",
    "r, c_mean, c_std = env_hhb.least_sq_std_rew_Virasoro(\n",
    "    h_vals,       # (Nth, p)\n",
    "    hb_vals,      # (Nth, p)\n",
    "    h_ext,        # (Nth,)\n",
    "    z_vals,       # (N_z,)\n",
    "    zbar_vals,       # (N_z,)\n",
    "    virasoro_info,\n",
    "    N_lsq=20,\n",
    "    kmax=3,\n",
    "    n_states_rew=2,\n",
    "    kmax1=10,\n",
    "    device=\"cuda\",\n",
    "    analytic_H=False\n",
    ")"
   ]
  },
  {
   "cell_type": "code",
   "execution_count": null,
   "id": "df9c9d12",
   "metadata": {},
   "outputs": [
    {
     "name": "stdout",
     "output_type": "stream",
     "text": [
      "24\n",
      "24.4\n",
      "\n",
      "Theory info: \n",
      "    theory: (p, q)=[5, 3]\n",
      "    central charge: -0.6\n",
      "    d max: 24.4\n",
      "    dSigam: -0.1\n",
      "    Delta: [2.0, 0.4, 2.4, 4.0, 4.0, 4.4, 4.4, 6.0, 6.0, 6.4, 6.4, 8.0, 8.0, 8.0, 8.4, 8.4, 8.4, 10.0, 10.0, 10.4, 10.4, 10.4, 12.0, 12.0, 12.4, 12.4, 12.4, 12.4, 14.0, 14.4, 14.4, 14.4, 16.0, 16.4, 16.4, 16.4, 18.4, 18.4, 20.4, 20.4, 22.4, 24.4]\n",
      "    spin:  [2.0, 0.0, 2.0, 4.0, 0.0, 0.0, 4.0, 6.0, 2.0, 2.0, 6.0, 8.0, 0.0, 4.0, 4.0, 0.0, 8.0, 2.0, 6.0, 6.0, 2.0, 10.0, 0.0, 4.0, 8.0, 4.0, 0.0, 12.0, 2.0, 10.0, 6.0, 2.0, 0.0, 8.0, 4.0, 0.0, 6.0, 2.0, 4.0, 0.0, 2.0, 0.0]\n",
      "    cs: [-8.33333333e-03 -1.36869447e-01  3.99943190e-03 -4.93421053e-05\n",
      "  3.47222222e-05 -2.92166291e-05  3.73585278e-05 -7.29868853e-07\n",
      "  4.11184211e-07 -5.45822647e-07  8.08021489e-07 -1.21090324e-08\n",
      "  1.21732168e-09  6.08224044e-09 -1.18055088e-08 -2.54925337e-09\n",
      "  2.34646066e-08  3.60132658e-11  1.00908603e-10 -3.42827044e-10\n",
      " -1.10274769e-10  7.93053711e-10  2.66354271e-13  5.97485150e-13\n",
      " -1.15868237e-11 -3.20233323e-12 -1.19255747e-12  2.93542087e-11\n",
      "  8.83800557e-15 -4.28876426e-13 -1.08232041e-13 -6.92627418e-14\n",
      "  7.33143325e-17 -4.00611694e-15 -2.34093311e-15 -1.00568055e-15\n",
      " -8.66476482e-17 -6.79797197e-17 -2.51621152e-18 -1.14878485e-18\n",
      " -8.50425884e-20 -1.57388955e-21]\n",
      "\n",
      "\n",
      "Theory info: \n",
      "    theory: (p, q)=[5, 3]\n",
      "    central charge: -0.6\n",
      "    d max: 8\n",
      "    dSigam: -0.1\n",
      "    Delta: [0.4, 2.4, 4.4, 4.4, 6.4, 6.4, 8.4, 8.4, 8.4]\n",
      "    spin:  [0.0, 2.0, 0.0, 4.0, 2.0, 6.0, 4.0, 0.0, 8.0]\n",
      "    cs: [-1.36869447e-01  3.99943190e-03 -2.92166291e-05  3.73585278e-05\n",
      " -5.45822647e-07  8.08021489e-07 -1.18055088e-08 -2.54925337e-09\n",
      "  2.34646066e-08]\n",
      "\n"
     ]
    }
   ],
   "source": [
    "from CFT_spectrum.Get_spec_to_store import from_json_2_RL_input, load_minimal_pq, get_non_identity_global_p, load_fusion_rule, process_data, process_data_sep\n",
    "\n",
    "num_states=25\n",
    "picked_theory = process_data(num_states, [[5, 3], -0.05], output_num_states=None)#from_json_2_RL_input(load_minimal_pq(label=\"all\")[model_idx], num_states=num_states, label='all')\n",
    "    \n",
    "delta = torch.tensor(picked_theory[\"init_state\"], device=device)\n",
    "spin = torch.tensor(picked_theory[\"spins\"], device=device)\n",
    "cs = np.array(picked_theory[\"cs\"])\n",
    "dSigma = picked_theory[\"dSigma\"]\n",
    "central_charge = picked_theory[\"central charge\"]\n",
    "d_max = int(max(delta))#picked_theory[\"d_max\"]\n",
    "print(d_max)\n",
    "print(picked_theory[\"d_max\"])\n",
    "spec = [delta, spin, cs, dSigma, d_max]\n",
    "print(f\"\\nTheory info: \\n    theory: {picked_theory['theory']}\\n    central charge: {central_charge}\\n    d max: {picked_theory['d_max']}\\n    dSigam: {dSigma}\\n    Delta: {spec[0].tolist()}\\n    spin:  {spec[1].tolist()}\\n    cs: {cs}\\n\")\n",
    "\n",
    "spec, cs = get_non_identity_global_p(spec, num_states=9)\n",
    "print(f\"\\nTheory info: \\n    theory: {picked_theory['theory']}\\n    central charge: {central_charge}\\n    d max: {spec[3]}\\n    dSigam: {dSigma}\\n    Delta: {spec[0].tolist()}\\n    spin:  {spec[1].tolist()}\\n    cs: {cs}\\n\")\n"
   ]
  },
  {
   "cell_type": "code",
   "execution_count": null,
   "id": "49c3905f",
   "metadata": {},
   "outputs": [
    {
     "ename": "AttributeError",
     "evalue": "'float' object has no attribute 'is_cuda'",
     "output_type": "error",
     "traceback": [
      "\u001b[1;31m---------------------------------------------------------------------------\u001b[0m",
      "\u001b[1;31mAttributeError\u001b[0m                            Traceback (most recent call last)",
      "\u001b[1;32m~\\AppData\\Local\\Temp\\ipykernel_90172\\4182317151.py\u001b[0m in \u001b[0;36m<module>\u001b[1;34m\u001b[0m\n\u001b[0;32m      1\u001b[0m \u001b[0mx_vals\u001b[0m\u001b[1;33m,\u001b[0m \u001b[0my_vals\u001b[0m \u001b[1;33m=\u001b[0m \u001b[0mgenerate_gaussian_real_points\u001b[0m\u001b[1;33m(\u001b[0m\u001b[0mN_z\u001b[0m\u001b[1;33m,\u001b[0m \u001b[0mstd\u001b[0m\u001b[1;33m=\u001b[0m\u001b[0mcontour_std\u001b[0m\u001b[1;33m,\u001b[0m \u001b[0mdevice\u001b[0m\u001b[1;33m=\u001b[0m\u001b[0mdevice\u001b[0m\u001b[1;33m)\u001b[0m\u001b[1;33m\u001b[0m\u001b[1;33m\u001b[0m\u001b[0m\n\u001b[0;32m      2\u001b[0m \u001b[1;33m\u001b[0m\u001b[0m\n\u001b[1;32m----> 3\u001b[1;33m \u001b[0menv_hhb\u001b[0m\u001b[1;33m.\u001b[0m\u001b[0mleast_sq_std_rew_G\u001b[0m\u001b[1;33m(\u001b[0m\u001b[0mspec\u001b[0m\u001b[1;33m[\u001b[0m\u001b[1;36m0\u001b[0m\u001b[1;33m]\u001b[0m\u001b[1;33m.\u001b[0m\u001b[0munsqueeze\u001b[0m\u001b[1;33m(\u001b[0m\u001b[1;36m0\u001b[0m\u001b[1;33m)\u001b[0m\u001b[1;33m,\u001b[0m \u001b[0mspec\u001b[0m\u001b[1;33m[\u001b[0m\u001b[1;36m1\u001b[0m\u001b[1;33m]\u001b[0m\u001b[1;33m.\u001b[0m\u001b[0munsqueeze\u001b[0m\u001b[1;33m(\u001b[0m\u001b[1;36m0\u001b[0m\u001b[1;33m)\u001b[0m\u001b[1;33m,\u001b[0m \u001b[0mx_vals\u001b[0m\u001b[1;33m,\u001b[0m \u001b[0my_vals\u001b[0m\u001b[1;33m,\u001b[0m \u001b[0mdSigma\u001b[0m\u001b[1;33m,\u001b[0m \u001b[0mN_lsq\u001b[0m\u001b[1;33m=\u001b[0m\u001b[1;36m32\u001b[0m\u001b[1;33m)\u001b[0m\u001b[1;33m\u001b[0m\u001b[1;33m\u001b[0m\u001b[0m\n\u001b[0m",
      "\u001b[1;32mc:\\Users\\User\\Desktop\\git\\Conformal_Bootstrap\\packages\\rl\\env_hhb.py\u001b[0m in \u001b[0;36mleast_sq_std_rew_G\u001b[1;34m(h_vals, hb_vals, h_ext, x_vals, y_vals, N_lsq, n_states_rew)\u001b[0m\n\u001b[0;32m     98\u001b[0m     \u001b[0ms_vals\u001b[0m \u001b[1;33m=\u001b[0m \u001b[1;33m(\u001b[0m\u001b[0mh_vals\u001b[0m \u001b[1;33m-\u001b[0m \u001b[0mhb_vals\u001b[0m\u001b[1;33m)\u001b[0m\u001b[1;33m\u001b[0m\u001b[1;33m\u001b[0m\u001b[0m\n\u001b[0;32m     99\u001b[0m     \u001b[0md_max\u001b[0m \u001b[1;33m=\u001b[0m \u001b[0mmax\u001b[0m\u001b[1;33m(\u001b[0m\u001b[0md_values\u001b[0m\u001b[1;33m)\u001b[0m\u001b[1;33m\u001b[0m\u001b[1;33m\u001b[0m\u001b[0m\n\u001b[1;32m--> 100\u001b[1;33m     \u001b[0mc_out\u001b[0m\u001b[1;33m,\u001b[0m \u001b[0mres_out\u001b[0m \u001b[1;33m=\u001b[0m \u001b[0mcalculate_c_rew_Global\u001b[0m\u001b[1;33m(\u001b[0m\u001b[0md_values\u001b[0m\u001b[1;33m,\u001b[0m \u001b[0ms_vals\u001b[0m\u001b[1;33m,\u001b[0m \u001b[0mx_vals\u001b[0m\u001b[1;33m,\u001b[0m \u001b[0my_vals\u001b[0m\u001b[1;33m,\u001b[0m \u001b[1;36m2\u001b[0m\u001b[1;33m*\u001b[0m\u001b[0mh_ext\u001b[0m\u001b[1;33m,\u001b[0m \u001b[0md_max\u001b[0m\u001b[1;33m,\u001b[0m \u001b[0mN_lsq\u001b[0m\u001b[1;33m=\u001b[0m\u001b[0mN_lsq\u001b[0m\u001b[1;33m)\u001b[0m\u001b[1;33m\u001b[0m\u001b[1;33m\u001b[0m\u001b[0m\n\u001b[0m\u001b[0;32m    101\u001b[0m     \u001b[0mc_mean\u001b[0m \u001b[1;33m=\u001b[0m \u001b[0mc_out\u001b[0m\u001b[1;33m.\u001b[0m\u001b[0mmean\u001b[0m\u001b[1;33m(\u001b[0m\u001b[0mdim\u001b[0m\u001b[1;33m=\u001b[0m\u001b[1;36m0\u001b[0m\u001b[1;33m)\u001b[0m\u001b[1;33m\u001b[0m\u001b[1;33m\u001b[0m\u001b[0m\n\u001b[0;32m    102\u001b[0m     \u001b[0mc_std\u001b[0m \u001b[1;33m=\u001b[0m \u001b[0mc_out\u001b[0m\u001b[1;33m.\u001b[0m\u001b[0mstd\u001b[0m\u001b[1;33m(\u001b[0m\u001b[0mdim\u001b[0m\u001b[1;33m=\u001b[0m\u001b[1;36m0\u001b[0m\u001b[1;33m)\u001b[0m\u001b[1;33m\u001b[0m\u001b[1;33m\u001b[0m\u001b[0m\n",
      "\u001b[1;32mc:\\Users\\User\\Desktop\\git\\Conformal_Bootstrap\\packages\\rl\\env_hhb.py\u001b[0m in \u001b[0;36mcalculate_c_rew_Global\u001b[1;34m(d_vals, s_vals, x_vals, y_vals, dphi, d_max, N_lsq)\u001b[0m\n\u001b[0;32m     40\u001b[0m     \u001b[1;31m# Ensure inputs are CUDA tensors with float64\u001b[0m\u001b[1;33m\u001b[0m\u001b[1;33m\u001b[0m\u001b[0m\n\u001b[0;32m     41\u001b[0m     \u001b[1;32mfor\u001b[0m \u001b[0mt\u001b[0m \u001b[1;32min\u001b[0m \u001b[1;33m[\u001b[0m\u001b[0md_vals\u001b[0m\u001b[1;33m,\u001b[0m \u001b[0ms_vals\u001b[0m\u001b[1;33m,\u001b[0m \u001b[0mx_vals\u001b[0m\u001b[1;33m,\u001b[0m \u001b[0my_vals\u001b[0m\u001b[1;33m]\u001b[0m\u001b[1;33m:\u001b[0m\u001b[1;33m\u001b[0m\u001b[1;33m\u001b[0m\u001b[0m\n\u001b[1;32m---> 42\u001b[1;33m         \u001b[1;32massert\u001b[0m \u001b[0mt\u001b[0m\u001b[1;33m.\u001b[0m\u001b[0mis_cuda\u001b[0m \u001b[1;32mand\u001b[0m \u001b[0mt\u001b[0m\u001b[1;33m.\u001b[0m\u001b[0mdtype\u001b[0m \u001b[1;33m==\u001b[0m \u001b[0mtorch\u001b[0m\u001b[1;33m.\u001b[0m\u001b[0mfloat64\u001b[0m\u001b[1;33m\u001b[0m\u001b[1;33m\u001b[0m\u001b[0m\n\u001b[0m\u001b[0;32m     43\u001b[0m \u001b[1;33m\u001b[0m\u001b[0m\n\u001b[0;32m     44\u001b[0m     \u001b[0mN_deltas\u001b[0m \u001b[1;33m=\u001b[0m \u001b[0md_vals\u001b[0m\u001b[1;33m.\u001b[0m\u001b[0mshape\u001b[0m\u001b[1;33m[\u001b[0m\u001b[1;36m0\u001b[0m\u001b[1;33m]\u001b[0m\u001b[1;33m\u001b[0m\u001b[1;33m\u001b[0m\u001b[0m\n",
      "\u001b[1;31mAttributeError\u001b[0m: 'float' object has no attribute 'is_cuda'"
     ]
    }
   ],
   "source": [
    "x_vals, y_vals = generate_gaussian_real_points(N_z, std=contour_std, device=device)\n",
    "\n",
    "env_hhb.least_sq_std_rew_G(spec[0].unsqueeze(0), spec[1].unsqueeze(0), x_vals, y_vals, dSigma, N_lsq=32)"
   ]
  },
  {
   "cell_type": "code",
   "execution_count": null,
   "id": "0762614f",
   "metadata": {},
   "outputs": [
    {
     "data": {
      "text/plain": [
       "[tensor([0.4000, 2.4000, 4.4000, 4.4000, 6.4000, 6.4000, 8.4000, 8.4000, 8.4000],\n",
       "        device='cuda:0'),\n",
       " tensor([0., 2., 0., 4., 2., 6., 4., 0., 8.], device='cuda:0'),\n",
       " -0.1,\n",
       " 8]"
      ]
     },
     "execution_count": 13,
     "metadata": {},
     "output_type": "execute_result"
    }
   ],
   "source": [
    "spec"
   ]
  },
  {
   "cell_type": "code",
   "execution_count": null,
   "id": "771a4de0",
   "metadata": {},
   "outputs": [],
   "source": []
  }
 ],
 "metadata": {
  "kernelspec": {
   "display_name": "ML",
   "language": "python",
   "name": "python3"
  },
  "language_info": {
   "codemirror_mode": {
    "name": "ipython",
    "version": 3
   },
   "file_extension": ".py",
   "mimetype": "text/x-python",
   "name": "python",
   "nbconvert_exporter": "python",
   "pygments_lexer": "ipython3",
   "version": "3.10.14"
  }
 },
 "nbformat": 4,
 "nbformat_minor": 5
}
